{
 "cells": [
  {
   "cell_type": "markdown",
   "metadata": {},
   "source": [
    "#### <center>\n",
    "    <img src=\"https://cf-courses-data.s3.us.cloud-object-storage.appdomain.cloud/IBMDeveloperSkillsNetwork-DS0105EN-SkillsNetwork/labs/Module2/images/SN_web_lightmode.png\" width=\"300\" alt=\"cognitiveclass.ai logo\">\n",
    "</center>\n"
   ]
  },
  {
   "cell_type": "markdown",
   "metadata": {},
   "source": [
    "#### Add your code below following the instructions given in the course\n"
   ]
  },
  {
   "cell_type": "markdown",
   "metadata": {},
   "source": [
    "# Data Science Tools and Ecosystem"
   ]
  },
  {
   "cell_type": "markdown",
   "metadata": {
    "tags": []
   },
   "source": [
    "# introduction: In this notebook, Data Science Tools and Ecosystem are summarized."
   ]
  },
  {
   "cell_type": "markdown",
   "metadata": {
    "tags": []
   },
   "source": [
    "# Some of the popular languages that Data Scientists use are:\n",
    "* python\n",
    "* R\n",
    "* SQL\n",
    "* matlab"
   ]
  },
  {
   "cell_type": "markdown",
   "metadata": {
    "tags": []
   },
   "source": [
    "#### Data Science Libraries:\n",
    "\n",
    "- NumPy\n",
    "- Pandas\n",
    "- Scikit-learn\n",
    "- TensorFlow\n",
    "- Keras\n",
    "- Matplotlib\n",
    "- Seaborn"
   ]
  },
  {
   "cell_type": "markdown",
   "metadata": {},
   "source": [
    "#### Data Science Tools\n",
    "\n",
    "| Category        | Tools              |\n",
    "|-----------------|--------------------|\n",
    "| Data Manipulation   | Pandas, SQL, dplyr |\n",
    "| Machine Learning    | Scikit-learn, TensorFlow, Keras |\n",
    "| Data Visualization  | Matplotlib, Seaborn, Tableau |\n",
    "| Big Data Processing | Apache Spark, Hadoop, Hive |\n"
   ]
  },
  {
   "cell_type": "markdown",
   "metadata": {
    "tags": []
   },
   "source": [
    "## Arithmetic Expression Examples: Below are a few examples of evaluating arithmetic expressions in Python"
   ]
  },
  {
   "cell_type": "code",
   "execution_count": 1,
   "metadata": {
    "tags": []
   },
   "outputs": [
    {
     "name": "stdout",
     "output_type": "stream",
     "text": [
      "Product: 12\n",
      "Sum: 7\n"
     ]
    }
   ],
   "source": [
    "# Multiply and Add Numbers\n",
    "a = 3\n",
    "b = 4\n",
    "product = a * b\n",
    "sum = a + b\n",
    "\n",
    "print(\"Product:\", product)\n",
    "print(\"Sum:\", sum)"
   ]
  },
  {
   "cell_type": "code",
   "execution_count": 14,
   "metadata": {
    "tags": []
   },
   "outputs": [
    {
     "name": "stdout",
     "output_type": "stream",
     "text": [
      "hours: 2.0\n"
     ]
    }
   ],
   "source": [
    "# Convert Minutes to Hours\n",
    "\n",
    "def min_hr(minutes):\n",
    "    hours = minutes / 60\n",
    "\n",
    "    return hours\n",
    "\n",
    "#test function\n",
    "minutes=120\n",
    "print('hours:',min_hr(120))"
   ]
  },
  {
   "cell_type": "markdown",
   "metadata": {
    "tags": []
   },
   "source": [
    "## Objectives\n",
    "\n",
    "- Explore data science languages and libraries\n",
    "- Understand the applications of data science tools\n",
    "- Practice arithmetic expressions with Python\n",
    "- Apply data science concepts and techniques in real-world scenarios"
   ]
  },
  {
   "cell_type": "markdown",
   "metadata": {},
   "source": [
    "#### Author\n",
    "Lakshmi Holla, Niveditha Pandith"
   ]
  },
  {
   "cell_type": "code",
   "execution_count": null,
   "metadata": {},
   "outputs": [],
   "source": []
  }
 ],
 "metadata": {
  "kernelspec": {
   "display_name": "Python",
   "language": "python",
   "name": "conda-env-python-py"
  },
  "language_info": {
   "codemirror_mode": {
    "name": "ipython",
    "version": 3
   },
   "file_extension": ".py",
   "mimetype": "text/x-python",
   "name": "python",
   "nbconvert_exporter": "python",
   "pygments_lexer": "ipython3",
   "version": "3.7.12"
  }
 },
 "nbformat": 4,
 "nbformat_minor": 4
}
